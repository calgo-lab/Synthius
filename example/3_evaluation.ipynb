{
 "cells": [
  {
   "cell_type": "code",
   "execution_count": 1,
   "metadata": {
    "slideshow": {
     "slide_type": "skip"
    }
   },
   "outputs": [],
   "source": [
    "import warnings\n",
    "\n",
    "from synthetic_data.utilities import MetricsAggregator, metric_selection, privacy_risk_plot\n",
    "\n",
    "warnings.filterwarnings(\"ignore\")"
   ]
  },
  {
   "cell_type": "code",
   "execution_count": 2,
   "metadata": {},
   "outputs": [],
   "source": [
    "train_data = \"PATH_TO_TRAIN_DATASET_AS_CSV\"  # TODO: Change this to the path of the training dataset\n",
    "test_data = \"PATH_TO_TEST_DATASET_AS_CSV\"  # TODO: Change this to the path of the test dataset\n",
    "synt_path = \"PATH_TO_SYNTHETIC_DATA_DIRECTORY\"  # TODO: Change this to the path of the synthetic data directory\n",
    "models_path = \"PATH_TO_MODELS_DIRECTORY\"  # TODO: Change this to the path of the models directory\n",
    "RESULTS_PATH = \"PATH_TO_RESULTS_DIRECTORY\"  # TODO: Change this to the path of the results directory\n",
    "\n",
    "synthetic_data_paths = [\n",
    "    synt_path / \"ARF.csv\",\n",
    "    synt_path / \"CopulaGAN.csv\",\n",
    "    synt_path / \"CTGAN.csv\",\n",
    "    synt_path / \"GaussianCopula.csv\",\n",
    "    synt_path / \"GaussianMultivariate.csv\",\n",
    "    synt_path / \"TVAE.csv\",\n",
    "    synt_path / \"WGAN.csv\",\n",
    "]\n",
    "\n",
    "\n",
    "TARGET = \"TARGET_COLUMN\"  # TODO: Change this to the target column\n",
    "POS_LABEL = \"POSITIVE_LABEL\"  # TODO: Change this to the positive label\n",
    "# If it's a binary classification problem, use TRUE without quotation marks\n",
    "ID = None  # TODO: Change this to the ID column if exists"
   ]
  },
  {
   "cell_type": "markdown",
   "metadata": {},
   "source": [
    "### Modify the key fields, sensitive fields, and auxiliary columns as per your data. Below is an example of how it should be used."
   ]
  },
  {
   "cell_type": "code",
   "execution_count": 3,
   "metadata": {},
   "outputs": [],
   "source": [
    "key_fields = [\n",
    "    \"Age\",\n",
    "    \"Education\",\n",
    "    \"Occupation\",\n",
    "    \"Income\",\n",
    "    \"Marital-status\",\n",
    "    \"Native-country\",\n",
    "    \"Relationship\",\n",
    "]\n",
    "\n",
    "sensitive_fields = [\"Race\", \"Sex\"]\n",
    "\n",
    "\n",
    "aux_cols = [\n",
    "    [\"Occupation\", \"Education\", \"Education-num\", \"Hours-per-week\", \"Capital-loss\", \"Capital-gain\"],\n",
    "    [\"Race\", \"Sex\", \"Fnlwgt\", \"Age\", \"Native-country\", \"Workclass\", \"Marital-status\", \"Relationship\"],\n",
    "]"
   ]
  },
  {
   "cell_type": "code",
   "execution_count": null,
   "metadata": {},
   "outputs": [],
   "source": [
    "metrics_result = MetricsAggregator(\n",
    "    real_data_path=train_data,\n",
    "    synthetic_data_paths=synthetic_data_paths,\n",
    "    control_data=test_data,\n",
    "    key_fields=key_fields,\n",
    "    sensitive_fields=sensitive_fields,\n",
    "    distance_scaler=\"MinMaxScaler\",\n",
    "    singlingout_mode=\"multivariate\",\n",
    "    singlingout_n_attacks=6_000,  # TODO: Change this to the number of attacks for example half of the size of the dataset\n",
    "    singlingout_n_cols=7,  # TODO: Change this to the number of columns for singling out, for example half of the columns\n",
    "    linkability_n_neighbors=500,\n",
    "    linkability_n_attacks=None,\n",
    "    linkability_aux_cols=aux_cols,\n",
    "    id_column=ID,\n",
    "    utility_test_path=test_data,\n",
    "    utility_models_path=models_path,\n",
    "    label_column=TARGET,\n",
    "    pos_label=POS_LABEL,\n",
    "    need_split=False,\n",
    ")\n",
    "\n",
    "metrics_result.run_all_metrics()\n",
    "display(metrics_result.all_results)"
   ]
  },
  {
   "cell_type": "code",
   "execution_count": 5,
   "metadata": {},
   "outputs": [],
   "source": [
    "metrics_result.save_results(RESULTS_PATH / \"NAME_OF_DATASET.pkl\")  # TODO: Change this to the name of the dataset"
   ]
  },
  {
   "cell_type": "code",
   "execution_count": null,
   "metadata": {},
   "outputs": [],
   "source": [
    "display(metric_selection(RESULTS_PATH / \"NAME_OF_DATASET.pkl\"))  # TODO: Change this to the name of the dataset"
   ]
  },
  {
   "cell_type": "code",
   "execution_count": null,
   "metadata": {},
   "outputs": [],
   "source": [
    "privacy_data, _ = privacy_risk_plot(\n",
    "    RESULTS_PATH / \"NAME_OF_DATASET.pkl\",\n",
    "    \"NAME_OF_DATASET\",\n",
    ")  # TODO: Change this to the name of the dataset\n",
    "display(privacy_data)"
   ]
  }
 ],
 "metadata": {
  "kernelspec": {
   "display_name": "synthetic_data-OetqL8uo-py3.10",
   "language": "python",
   "name": "python3"
  },
  "language_info": {
   "codemirror_mode": {
    "name": "ipython",
    "version": 3
   },
   "file_extension": ".py",
   "mimetype": "text/x-python",
   "name": "python",
   "nbconvert_exporter": "python",
   "pygments_lexer": "ipython3",
   "version": "3.10.10"
  }
 },
 "nbformat": 4,
 "nbformat_minor": 2
}
