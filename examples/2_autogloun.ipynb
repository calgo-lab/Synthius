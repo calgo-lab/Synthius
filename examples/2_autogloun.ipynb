{
 "cells": [
  {
   "cell_type": "code",
   "execution_count": null,
   "metadata": {},
   "outputs": [],
   "source": [
    "from pathlib import Path\n",
    "\n",
    "from synthius.model import ModelFitter, ModelLoader\n"
   ]
  },
  {
   "cell_type": "code",
   "execution_count": 2,
   "metadata": {},
   "outputs": [],
   "source": [
    "train_data = Path(\"PATH_TO_TRAIN_DATASET_AS_CSV\")  # TODO: Change this to the path of the training dataset\n",
    "test_data = Path(\"PATH_TO_TEST_DATASET_AS_CSV\")  # TODO: Change this to the path of the test dataset\n",
    "synt_path = Path(\"PATH_TO_SYNTHETIC_DATA_DIRECTORY\")  # TODO: Change this to the path of the synthetic data directory\n",
    "models_path = Path(\"PATH_TO_MODELS_DIRECTORY\")  # TODO: Change this to the path of the models directory\n",
    "\n",
    "synthetic_data_paths = [\n",
    "    synt_path / \"CopulaGAN.csv\",\n",
    "    synt_path / \"CTGAN.csv\",\n",
    "    synt_path / \"GaussianCopula.csv\",\n",
    "    synt_path / \"TVAE.csv\",\n",
    "    synt_path / \"GaussianMultivariate.csv\",\n",
    "    synt_path / \"ARF.csv\",\n",
    "    synt_path / \"WGAN.csv\",\n",
    "]\n",
    "\n",
    "TARGET = \"TARGET_COLUMN\"  # TODO: Change this to the target column\n",
    "POS_LABEL = \"POSITIVE_LABEL\"  # TODO: Change this to the positive label\n",
    "# If it's a binary classification problem, use TRUE without quotation marks"
   ]
  },
  {
   "cell_type": "code",
   "execution_count": null,
   "metadata": {},
   "outputs": [],
   "source": [
    "for syn_path in synthetic_data_paths:\n",
    "    ModelFitter(\n",
    "        data_path=syn_path,\n",
    "        label_column=TARGET,\n",
    "        experiment_name=syn_path.stem,\n",
    "        models_base_path=models_path,\n",
    "        test_data_path=test_data,\n",
    "        pos_label=POS_LABEL,\n",
    "    )\n",
    "\n",
    "ModelFitter(\n",
    "    data_path=train_data,\n",
    "    label_column=TARGET,\n",
    "    experiment_name=\"Original\",\n",
    "    models_base_path=models_path,\n",
    "    test_data_path=test_data,\n",
    "    pos_label=POS_LABEL,\n",
    ")"
   ]
  },
  {
   "cell_type": "code",
   "execution_count": null,
   "metadata": {},
   "outputs": [],
   "source": [
    "ModelFitter.plot_metrics(pos_label=POS_LABEL)"
   ]
  },
  {
   "cell_type": "code",
   "execution_count": null,
   "metadata": {},
   "outputs": [],
   "source": [
    "ModelFitter.display_metrics()"
   ]
  },
  {
   "cell_type": "code",
   "execution_count": 6,
   "metadata": {},
   "outputs": [],
   "source": [
    "experiment_names = [path.stem for path in synthetic_data_paths] + [\"Original\"]\n",
    "\n",
    "for exp in experiment_names:\n",
    "    ModelLoader(\n",
    "        data_path=test_data,\n",
    "        label_column=TARGET,\n",
    "        experiment_name=exp,\n",
    "        models_base_path=models_path / exp,\n",
    "        pos_label=POS_LABEL,\n",
    "        need_split=False,\n",
    "    )"
   ]
  },
  {
   "cell_type": "code",
   "execution_count": null,
   "metadata": {},
   "outputs": [],
   "source": [
    "plot = ModelLoader.plot_metrics(pos_label=POS_LABEL)"
   ]
  },
  {
   "cell_type": "code",
   "execution_count": null,
   "metadata": {},
   "outputs": [],
   "source": [
    "ModelLoader.display_metrics()"
   ]
  }
 ],
 "metadata": {
  "kernelspec": {
   "display_name": "kip-sdm-Nt5IwmyK-py3.9",
   "language": "python",
   "name": "python3"
  },
  "language_info": {
   "codemirror_mode": {
    "name": "ipython",
    "version": 3
   },
   "file_extension": ".py",
   "mimetype": "text/x-python",
   "name": "python",
   "nbconvert_exporter": "python",
   "pygments_lexer": "ipython3",
   "version": "3.10.10"
  }
 },
 "nbformat": 4,
 "nbformat_minor": 2
}
