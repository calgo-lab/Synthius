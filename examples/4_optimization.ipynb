{
 "cells": [
  {
   "cell_type": "code",
   "execution_count": null,
   "metadata": {
    "slideshow": {
     "slide_type": "skip"
    }
   },
   "outputs": [],
   "source": [
    "import warnings\n",
    "from pathlib import Path\n",
    "\n",
    "import pandas as pd\n",
    "\n",
    "from synthius.optimization import NSGAIISamplerHPOptimizer\n",
    "from synthius.metric.utils import utils\n",
    "\n",
    "warnings.filterwarnings(\"ignore\")"
   ]
  },
  {
   "cell_type": "code",
   "execution_count": null,
   "metadata": {},
   "outputs": [],
   "source": [
    "train_data = Path(\"PATH_TO_TRAIN_DATASET_AS_CSV\")  # TODO: Change this to the path of the training dataset\n",
    "\n",
    "TARGET = \"TARGET_COLUMN\"  # TODO: Change this to the target column\n",
    "POS_LABEL = \"POSITIVE_LABEL\"  # TODO: Change this to the positive label like : \">50K\"\n",
    "NEG_LABEL = \"NEGATIVE_LABEL\"  # TODO: Change this to the negative label like : \"<=50K\"\n",
    "# If it's a binary classification problem, use TRUE without quotation marks\n",
    "ID = None  # TODO: Change this to the ID column if exists"
   ]
  },
  {
   "cell_type": "markdown",
   "metadata": {},
   "source": [
    "### Modify the key fields, sensitive fields, and auxiliary columns as per your data. Below is an example of how it should be used."
   ]
  },
  {
   "cell_type": "code",
   "execution_count": 3,
   "metadata": {},
   "outputs": [],
   "source": [
    "key_fields = [\n",
    "    \"Age\",\n",
    "    \"Education\",\n",
    "    \"Occupation\",\n",
    "    \"Income\",\n",
    "    \"Marital-status\",\n",
    "    \"Native-country\",\n",
    "    \"Relationship\",\n",
    "]\n",
    "\n",
    "sensitive_fields = [\"Race\", \"Sex\"]\n",
    "\n",
    "\n",
    "aux_cols = [\n",
    "    [\"Occupation\", \"Education\", \"Education-num\", \"Hours-per-week\", \"Capital-loss\", \"Capital-gain\"],\n",
    "    [\"Race\", \"Sex\", \"Fnlwgt\", \"Age\", \"Native-country\", \"Workclass\", \"Marital-status\", \"Relationship\"],\n",
    "]"
   ]
  },
  {
   "cell_type": "code",
   "execution_count": null,
   "metadata": {},
   "outputs": [],
   "source": [
    "# We make sure we use the clean columns from the data\n",
    "inference_all_columns = utils.clean_columns(pd.read_csv(train_data)).columns\n",
    "\n",
    "optimizer = NSGAIISamplerHPOptimizer(\n",
    "    selected_metrics=[\"CS Test\", \"CategoricalNB\", \"Overall Quality\"],\n",
    "    key_fields=key_fields,\n",
    "    sensitive_fields=sensitive_fields,\n",
    "    linkability_aux_cols=aux_cols,\n",
    "    distance_scaler=\"MinMaxScaler\",\n",
    "    singlingout_mode=\"multivariate\",\n",
    "    singlingout_n_attacks=4_000,\n",
    "    singlingout_n_cols=7,\n",
    "    linkability_n_neighbors=500,\n",
    "    linkability_n_attacks=None,\n",
    "    inference_all_columns=inference_all_columns,\n",
    "    inference_use_custom_model=True,\n",
    "    inference_sample_attacks=False,\n",
    "    inference_n_attacks=None,\n",
    ")\n",
    "\n",
    "best_trial = optimizer.run_synthetic_pipeline(\n",
    "    real_data_path=train_data,\n",
    "    label_column=TARGET,\n",
    "    id_column=ID,\n",
    "    output_path=\"results\",  # Change it if you want to save the results in a different directory\n",
    "    n_trials=20,\n",
    "    positive_condition_value=POS_LABEL,\n",
    "    negative_condition_value=NEG_LABEL,\n",
    ")"
   ]
  },
  {
   "cell_type": "code",
   "execution_count": null,
   "metadata": {},
   "outputs": [],
   "source": [
    "result = optimizer.evaluate_best_model_metrics()\n",
    "display(result.all_results)"
   ]
  },
  {
   "cell_type": "code",
   "execution_count": null,
   "metadata": {},
   "outputs": [],
   "source": [
    "result.save_results(Path(\"res.pkl\"))"
   ]
  }
 ],
 "metadata": {
  "kernelspec": {
   "display_name": "synthius-zTqflg9O-py3.10",
   "language": "python",
   "name": "python3"
  },
  "language_info": {
   "codemirror_mode": {
    "name": "ipython",
    "version": 3
   },
   "file_extension": ".py",
   "mimetype": "text/x-python",
   "name": "python",
   "nbconvert_exporter": "python",
   "pygments_lexer": "ipython3",
   "version": "3.10.10"
  }
 },
 "nbformat": 4,
 "nbformat_minor": 2
}
